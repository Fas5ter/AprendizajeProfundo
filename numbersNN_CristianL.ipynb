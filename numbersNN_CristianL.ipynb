{
 "cells": [
  {
   "cell_type": "markdown",
   "metadata": {},
   "source": [
    "<div style=\"text-align: center\">\n",
    "    <img src='UDC.png' width='40%'>\n",
    "    <img src='ICI.png' width='20%'>\n",
    "</div>\n",
    "<div style=\"text-align: center\">\n",
    "    <p style=\"text-align: center\">Universidad de Colima<br>\n",
    "    Facultad de Ingeniería Mecánica y Eléctrica<br>\n",
    "    Ingeniería en Computación Inteligente</p>\n",
    "    <p style=\"text-align: center\">Red Neuronal aplicada a imágenes de números<br>\n",
    "    Aprendizaje Profundo</p>\n",
    "    <p style=\"text-align: center\">\n",
    "    Larios Bravo Cristian Armando 20188165<br>\n",
    "    </p>\n",
    "    <p style=\"text-align: center\">8°D</p>\n",
    "</div>\n",
    "<div style=\"text-align: right\">\n",
    "    Lugar: Mexico, Colima, Coquimatlan.<br>\n",
    "    Fecha: 07/03/2025.\n",
    "</div>"
   ]
  },
  {
   "cell_type": "code",
   "execution_count": null,
   "metadata": {
    "vscode": {
     "languageId": "plaintext"
    }
   },
   "outputs": [],
   "source": []
  }
 ],
 "metadata": {
  "language_info": {
   "name": "python"
  }
 },
 "nbformat": 4,
 "nbformat_minor": 2
}
